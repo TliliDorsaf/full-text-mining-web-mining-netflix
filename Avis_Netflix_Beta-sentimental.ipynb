{
 "cells": [
  {
   "cell_type": "code",
   "execution_count": 1,
   "metadata": {},
   "outputs": [
    {
     "name": "stdout",
     "output_type": "stream",
     "text": [
      "Requirement already satisfied: lxml in c:\\users\\louja\\anaconda3\\lib\\site-packages (4.6.3)\n",
      "Note: you may need to restart the kernel to use updated packages.\n"
     ]
    }
   ],
   "source": [
    "pip install lxml"
   ]
  },
  {
   "cell_type": "code",
   "execution_count": 2,
   "metadata": {},
   "outputs": [
    {
     "name": "stdout",
     "output_type": "stream",
     "text": [
      "Requirement already satisfied: requests in c:\\users\\louja\\anaconda3\\lib\\site-packages (2.25.1)\n",
      "Requirement already satisfied: urllib3<1.27,>=1.21.1 in c:\\users\\louja\\anaconda3\\lib\\site-packages (from requests) (1.26.4)\n",
      "Requirement already satisfied: chardet<5,>=3.0.2 in c:\\users\\louja\\anaconda3\\lib\\site-packages (from requests) (4.0.0)\n",
      "Requirement already satisfied: certifi>=2017.4.17 in c:\\users\\louja\\anaconda3\\lib\\site-packages (from requests) (2020.12.5)\n",
      "Requirement already satisfied: idna<3,>=2.5 in c:\\users\\louja\\anaconda3\\lib\\site-packages (from requests) (2.10)\n",
      "Note: you may need to restart the kernel to use updated packages.\n"
     ]
    }
   ],
   "source": [
    "pip install requests "
   ]
  },
  {
   "cell_type": "code",
   "execution_count": 3,
   "metadata": {},
   "outputs": [
    {
     "name": "stdout",
     "output_type": "stream",
     "text": [
      "Requirement already satisfied: beautifulsoup4 in c:\\users\\louja\\anaconda3\\lib\\site-packages (4.9.3)\n",
      "Requirement already satisfied: soupsieve>1.2 in c:\\users\\louja\\anaconda3\\lib\\site-packages (from beautifulsoup4) (2.2.1)\n",
      "Note: you may need to restart the kernel to use updated packages.\n"
     ]
    }
   ],
   "source": [
    "pip install beautifulsoup4"
   ]
  },
  {
   "cell_type": "code",
   "execution_count": 4,
   "metadata": {},
   "outputs": [],
   "source": [
    "import requests\n",
    "from bs4 import BeautifulSoup\n",
    "import csv\n",
    "from itertools import zip_longest"
   ]
  },
  {
   "cell_type": "code",
   "execution_count": 5,
   "metadata": {},
   "outputs": [],
   "source": [
    "result = requests.get('https://www.echosdunet.net/dossiers/svod-comparatif/netflix/avis#netflix-des-avis-contrastes-selon-les-sites')\n",
    "result2 = requests.get('https://fr.trustpilot.com/review/netflix.fr')\n",
    "result3 = requests.get('https://fr.trustpilot.com/review/netflix.fr?b=MTYzMTkyMzMwMDAwMHw2MTQ1MmM2NDYyMjNlMjIxMThiM2IyZDk')\n",
    "result4 = requests.get('https://fr.trustpilot.com/review/netflix.fr?b=MTYzMDU5MTU1ODAwMHw2MTMwZGE0NjljMzkxNjQ5ZDg1MDViMzg')\n",
    "result5 = requests.get('https://fr.trustpilot.com/review/netflix.fr?b=MTYyNjQxNTgwNjAwMHw2MGYxMjJiZWY5ZjQ4NzBiYmNiMjIwOWI')\n",
    "result6 = requests.get('https://fr.trustpilot.com/review/netflix.fr?b=MTYzMDU5MTU1ODAwMHw2MTMwZGE0NjljMzkxNjQ5ZDg1MDViMzg')\n",
    "result7 = requests.get('https://fr.trustpilot.com/review/netflix.fr?b=MTYyMTgwMzU1NTAwMHw2MGFhYzIyM2Y5ZjQ4NzBhOTRhYWY4ODE')\n",
    "result8 = requests.get('https://fr.trustpilot.com/review/netflix.fr?b=MTYxODQ4Nzc0MjAwMHw2MDc4MjliZWY4NWQ3NTA4NzA1ZTJjMzM')\n",
    "result9 = requests.get('https://fr.trustpilot.com/review/netflix.fr?b=MTYxNTY1NTE0MTAwMHw2MDRjZjBlNWY4NWQ3NTAzOTQyOThiMjA')\n",
    "result10 = requests.get('https://fr.trustpilot.com/review/netflix.fr?b=MTYxMzg0MjQzNjAwMHw2MDMxNDgwNGY4NWQ3NTBiOTg5Yjg2ZDA')"
   ]
  },
  {
   "cell_type": "code",
   "execution_count": 6,
   "metadata": {},
   "outputs": [],
   "source": [
    "src =  result.content\n",
    "src1 = result2.content\n",
    "src2 = result3.content\n",
    "src3 = result4.content\n",
    "src4 = result5.content\n",
    "src5 = result6.content\n",
    "src6 = result7.content\n",
    "src7 = result8.content\n",
    "src8 = result9.content\n",
    "src9 = result10.content\n",
    "\n"
   ]
  },
  {
   "cell_type": "code",
   "execution_count": 7,
   "metadata": {},
   "outputs": [],
   "source": [
    "soup = BeautifulSoup(src,\"lxml\")\n",
    "soup1 = BeautifulSoup(src1,\"lxml\")\n",
    "soup2 = BeautifulSoup(src2,\"lxml\")\n",
    "soup3 = BeautifulSoup(src3,\"lxml\")\n",
    "soup4 = BeautifulSoup(src4,\"lxml\")\n",
    "soup5 = BeautifulSoup(src5,\"lxml\")\n",
    "soup6 = BeautifulSoup(src6,\"lxml\")\n",
    "soup7 = BeautifulSoup(src7,\"lxml\")\n",
    "soup8 = BeautifulSoup(src8,\"lxml\")\n",
    "soup9 = BeautifulSoup(src9,\"lxml\")"
   ]
  },
  {
   "cell_type": "code",
   "execution_count": 8,
   "metadata": {},
   "outputs": [],
   "source": [
    "Avis_content = []\n",
    "Avis_contents = soup.find_all(\"q\",{\"class\":\"ahead center\"})\n",
    "Avis_contents1 = soup1.find_all(\"p\",{\"class\":\"review-content__text\"})\n",
    "Avis_contents2 = soup2.find_all(\"p\",{\"class\":\"review-content__text\"})\n",
    "Avis_contents3 = soup3.find_all(\"p\",{\"class\":\"review-content__text\"})\n",
    "Avis_contents4 = soup4.find_all(\"p\",{\"class\":\"review-content__text\"})\n",
    "Avis_contents5 = soup5.find_all(\"q\",{\"class\":\"ahead center\"})\n",
    "Avis_contents6 = soup6.find_all(\"p\",{\"class\":\"review-content__text\"})\n",
    "Avis_contents7 = soup7.find_all(\"p\",{\"class\":\"review-content__text\"})\n",
    "Avis_contents8 = soup8.find_all(\"p\",{\"class\":\"review-content__text\"})\n",
    "Avis_contents9 = soup9.find_all(\"p\",{\"class\":\"review-content__text\"})"
   ]
  },
  {
   "cell_type": "code",
   "execution_count": 9,
   "metadata": {},
   "outputs": [],
   "source": [
    "for i in range(len(Avis_contents)):\n",
    "    Avis_content.append(Avis_contents[i].text)\n",
    "#print(Avis_title, Avis_content, Cons_name,Avis_date )\n",
    "for j in range(len(Avis_contents1)):\n",
    "    Avis_content.append(Avis_contents1[j].text)\n",
    "#print(Avis_title, Avis_content, Cons_name,Avis_date )\n",
    "for k in range(len(Avis_contents2)):\n",
    "    Avis_content.append(Avis_contents2[k].text)\n",
    "#print(Avis_title, Avis_content, Cons_name,Avis_date )\n",
    "for l in range(len(Avis_contents3)):\n",
    "    Avis_content.append(Avis_contents3[l].text)\n",
    "#print(Avis_title, Avis_content, Cons_name,Avis_date )\n",
    "for m in range(len(Avis_contents4)):\n",
    "    Avis_content.append(Avis_contents4[m].text)\n",
    "#print(Avis_title, Avis_content, Cons_name,Avis_date )\n",
    "for n in range(len(Avis_contents5)):\n",
    "    Avis_content.append(Avis_contents5[n].text)\n",
    "#print(Avis_title, Avis_content, Cons_name,Avis_date )\n",
    "for p in range(len(Avis_contents6)):\n",
    "    Avis_content.append(Avis_contents6[p].text)\n",
    "#print(Avis_title, Avis_content, Cons_name,Avis_date )\n",
    "for s in range(len(Avis_contents7)):\n",
    "    Avis_content.append(Avis_contents7[s].text)\n",
    "#print(Avis_title, Avis_content, Cons_name,Avis_date )\n",
    "for t in range(len(Avis_contents8)):\n",
    "    Avis_content.append(Avis_contents8[t].text)\n",
    "#print(Avis_title, Avis_content, Cons_name,Avis_date )\n",
    "for v in range(len(Avis_contents9)):\n",
    "    Avis_content.append(Avis_contents9[v].text)\n",
    "#print(Avis_title, Avis_content, Cons_name,Avis_date )"
   ]
  },
  {
   "cell_type": "code",
   "execution_count": 10,
   "metadata": {},
   "outputs": [],
   "source": [
    "import pandas as pd\n",
    "df = pd.DataFrame({'Avis content':Avis_content})\n",
    "data1=df"
   ]
  },
  {
   "cell_type": "code",
   "execution_count": 11,
   "metadata": {},
   "outputs": [
    {
     "data": {
      "text/html": [
       "<div>\n",
       "<style scoped>\n",
       "    .dataframe tbody tr th:only-of-type {\n",
       "        vertical-align: middle;\n",
       "    }\n",
       "\n",
       "    .dataframe tbody tr th {\n",
       "        vertical-align: top;\n",
       "    }\n",
       "\n",
       "    .dataframe thead th {\n",
       "        text-align: right;\n",
       "    }\n",
       "</style>\n",
       "<table border=\"1\" class=\"dataframe\">\n",
       "  <thead>\n",
       "    <tr style=\"text-align: right;\">\n",
       "      <th></th>\n",
       "      <th>Avis content</th>\n",
       "    </tr>\n",
       "  </thead>\n",
       "  <tbody>\n",
       "    <tr>\n",
       "      <th>0</th>\n",
       "      <td>Je tenais à dire que Netflix m'a apporté des n...</td>\n",
       "    </tr>\n",
       "    <tr>\n",
       "      <th>1</th>\n",
       "      <td>Pour ceux qui aiment les séries, de tous les p...</td>\n",
       "    </tr>\n",
       "    <tr>\n",
       "      <th>2</th>\n",
       "      <td>Pourquoi avoir besoin d’un avis constructif lo...</td>\n",
       "    </tr>\n",
       "    <tr>\n",
       "      <th>3</th>\n",
       "      <td>J’avais résilié mon abonnement après un an d’u...</td>\n",
       "    </tr>\n",
       "    <tr>\n",
       "      <th>4</th>\n",
       "      <td>Le cinéma Français est en très grande partie a...</td>\n",
       "    </tr>\n",
       "    <tr>\n",
       "      <th>...</th>\n",
       "      <td>...</td>\n",
       "    </tr>\n",
       "    <tr>\n",
       "      <th>175</th>\n",
       "      <td>\\n                BonjourApparemment Netflix v...</td>\n",
       "    </tr>\n",
       "    <tr>\n",
       "      <th>176</th>\n",
       "      <td>\\n                Je me demande qui met les sé...</td>\n",
       "    </tr>\n",
       "    <tr>\n",
       "      <th>177</th>\n",
       "      <td>\\n                J'ai testé Netflix un mois a...</td>\n",
       "    </tr>\n",
       "    <tr>\n",
       "      <th>178</th>\n",
       "      <td>\\n                Trop de série inachevé !!!! ...</td>\n",
       "    </tr>\n",
       "    <tr>\n",
       "      <th>179</th>\n",
       "      <td>\\n                Mes enfants adorent est y tr...</td>\n",
       "    </tr>\n",
       "  </tbody>\n",
       "</table>\n",
       "<p>180 rows × 1 columns</p>\n",
       "</div>"
      ],
      "text/plain": [
       "                                          Avis content\n",
       "0    Je tenais à dire que Netflix m'a apporté des n...\n",
       "1    Pour ceux qui aiment les séries, de tous les p...\n",
       "2    Pourquoi avoir besoin d’un avis constructif lo...\n",
       "3    J’avais résilié mon abonnement après un an d’u...\n",
       "4    Le cinéma Français est en très grande partie a...\n",
       "..                                                 ...\n",
       "175  \\n                BonjourApparemment Netflix v...\n",
       "176  \\n                Je me demande qui met les sé...\n",
       "177  \\n                J'ai testé Netflix un mois a...\n",
       "178  \\n                Trop de série inachevé !!!! ...\n",
       "179  \\n                Mes enfants adorent est y tr...\n",
       "\n",
       "[180 rows x 1 columns]"
      ]
     },
     "execution_count": 11,
     "metadata": {},
     "output_type": "execute_result"
    }
   ],
   "source": [
    "df"
   ]
  },
  {
   "cell_type": "code",
   "execution_count": 12,
   "metadata": {},
   "outputs": [
    {
     "data": {
      "text/html": [
       "<div>\n",
       "<style scoped>\n",
       "    .dataframe tbody tr th:only-of-type {\n",
       "        vertical-align: middle;\n",
       "    }\n",
       "\n",
       "    .dataframe tbody tr th {\n",
       "        vertical-align: top;\n",
       "    }\n",
       "\n",
       "    .dataframe thead th {\n",
       "        text-align: right;\n",
       "    }\n",
       "</style>\n",
       "<table border=\"1\" class=\"dataframe\">\n",
       "  <thead>\n",
       "    <tr style=\"text-align: right;\">\n",
       "      <th></th>\n",
       "      <th>Avis content</th>\n",
       "      <th>index</th>\n",
       "    </tr>\n",
       "  </thead>\n",
       "  <tbody>\n",
       "    <tr>\n",
       "      <th>0</th>\n",
       "      <td>Je tenais à dire que Netflix m'a apporté des n...</td>\n",
       "      <td>0</td>\n",
       "    </tr>\n",
       "    <tr>\n",
       "      <th>1</th>\n",
       "      <td>Pour ceux qui aiment les séries, de tous les p...</td>\n",
       "      <td>1</td>\n",
       "    </tr>\n",
       "    <tr>\n",
       "      <th>2</th>\n",
       "      <td>Pourquoi avoir besoin d’un avis constructif lo...</td>\n",
       "      <td>2</td>\n",
       "    </tr>\n",
       "    <tr>\n",
       "      <th>3</th>\n",
       "      <td>J’avais résilié mon abonnement après un an d’u...</td>\n",
       "      <td>3</td>\n",
       "    </tr>\n",
       "    <tr>\n",
       "      <th>4</th>\n",
       "      <td>Le cinéma Français est en très grande partie a...</td>\n",
       "      <td>4</td>\n",
       "    </tr>\n",
       "    <tr>\n",
       "      <th>...</th>\n",
       "      <td>...</td>\n",
       "      <td>...</td>\n",
       "    </tr>\n",
       "    <tr>\n",
       "      <th>175</th>\n",
       "      <td>\\n                BonjourApparemment Netflix v...</td>\n",
       "      <td>175</td>\n",
       "    </tr>\n",
       "    <tr>\n",
       "      <th>176</th>\n",
       "      <td>\\n                Je me demande qui met les sé...</td>\n",
       "      <td>176</td>\n",
       "    </tr>\n",
       "    <tr>\n",
       "      <th>177</th>\n",
       "      <td>\\n                J'ai testé Netflix un mois a...</td>\n",
       "      <td>177</td>\n",
       "    </tr>\n",
       "    <tr>\n",
       "      <th>178</th>\n",
       "      <td>\\n                Trop de série inachevé !!!! ...</td>\n",
       "      <td>178</td>\n",
       "    </tr>\n",
       "    <tr>\n",
       "      <th>179</th>\n",
       "      <td>\\n                Mes enfants adorent est y tr...</td>\n",
       "      <td>179</td>\n",
       "    </tr>\n",
       "  </tbody>\n",
       "</table>\n",
       "<p>180 rows × 2 columns</p>\n",
       "</div>"
      ],
      "text/plain": [
       "                                          Avis content  index\n",
       "0    Je tenais à dire que Netflix m'a apporté des n...      0\n",
       "1    Pour ceux qui aiment les séries, de tous les p...      1\n",
       "2    Pourquoi avoir besoin d’un avis constructif lo...      2\n",
       "3    J’avais résilié mon abonnement après un an d’u...      3\n",
       "4    Le cinéma Français est en très grande partie a...      4\n",
       "..                                                 ...    ...\n",
       "175  \\n                BonjourApparemment Netflix v...    175\n",
       "176  \\n                Je me demande qui met les sé...    176\n",
       "177  \\n                J'ai testé Netflix un mois a...    177\n",
       "178  \\n                Trop de série inachevé !!!! ...    178\n",
       "179  \\n                Mes enfants adorent est y tr...    179\n",
       "\n",
       "[180 rows x 2 columns]"
      ]
     },
     "execution_count": 12,
     "metadata": {},
     "output_type": "execute_result"
    }
   ],
   "source": [
    "data_text = df[['Avis content']]\n",
    "data_text['index'] = data_text.index\n",
    "documents = data_text\n",
    "documents"
   ]
  },
  {
   "cell_type": "code",
   "execution_count": 13,
   "metadata": {},
   "outputs": [
    {
     "name": "stderr",
     "output_type": "stream",
     "text": [
      "[nltk_data] Downloading package wordnet to\n",
      "[nltk_data]     C:\\Users\\louja\\AppData\\Roaming\\nltk_data...\n",
      "[nltk_data]   Package wordnet is already up-to-date!\n"
     ]
    }
   ],
   "source": [
    "import gensim\n",
    "from gensim.utils import simple_preprocess\n",
    "from gensim.parsing.preprocessing import STOPWORDS\n",
    "from nltk.stem import WordNetLemmatizer, SnowballStemmer\n",
    "from nltk.stem.porter import *\n",
    "import numpy as np\n",
    "np.random.seed(2018)\n",
    "import nltk\n",
    "nltk.download('wordnet')\n",
    "from nltk.stem import PorterStemmer"
   ]
  },
  {
   "cell_type": "code",
   "execution_count": 14,
   "metadata": {},
   "outputs": [],
   "source": [
    "#Stemming and Lemmatizing\n",
    "#stemmer = PorterStemmer()\n",
    "def lemmatize_stemming(text):\n",
    "    return PorterStemmer().stem(WordNetLemmatizer().lemmatize(text, pos='v'))\n",
    "def preprocess(text):\n",
    "    result = []\n",
    "    for token in gensim.utils.simple_preprocess(text):\n",
    "        if token not in gensim.parsing.preprocessing.STOPWORDS and len(token) > 3:\n",
    "            result.append(lemmatize_stemming(token))\n",
    "    return result"
   ]
  },
  {
   "cell_type": "code",
   "execution_count": 15,
   "metadata": {},
   "outputs": [
    {
     "name": "stdout",
     "output_type": "stream",
     "text": [
      "['Je', 'tenais', 'à', 'dire', 'que', 'Netflix', \"m'a\", 'apporté', 'des', 'nouveautés', 'superbes.', 'En', 'ce', 'moment,', 'je', 'me', 'régale', 'avec', 'des', 'séries', 'coréennes', 'à', 'couper', 'le', 'souffle', '!', 'Franchement', \"c'est\", 'une', 'plate-forme', 'superbe', '!', 'Ma', 'fille', 'adore', 'et', 'mon', 'mari', 'aussi', '!', 'On', 'est', 'toujours', 'contents.', 'Bravo', 'à', 'Netflix']\n",
      "\n",
      "\n",
      " tokenized and lemmatized document: \n",
      "['tenai', 'dire', 'netflix', 'apporté', 'nouveauté', 'superb', 'moment', 'régale', 'avec', 'séri', 'coréenn', 'couper', 'souffl', 'franchement', 'plate', 'form', 'superb', 'fill', 'ador', 'mari', 'aussi', 'toujour', 'content', 'bravo', 'netflix']\n"
     ]
    }
   ],
   "source": [
    "#tokenization et un exemple de document 40\n",
    "doc_sample = df[['Avis content']].values[0][0]\n",
    "words = []\n",
    "for word in doc_sample.split(' '):\n",
    "    words.append(word)\n",
    "print(words)\n",
    "print('\\n\\n tokenized and lemmatized document: ')\n",
    "print(preprocess(doc_sample))"
   ]
  },
  {
   "cell_type": "code",
   "execution_count": 16,
   "metadata": {},
   "outputs": [
    {
     "data": {
      "text/plain": [
       "0      [tenai, dire, netflix, apporté, nouveauté, sup...\n",
       "1      [pour, ceux, aiment, séri, tou, pay, génial, r...\n",
       "2      [pourquoi, avoir, besoin, avi, constructif, lo...\n",
       "3      [avai, résilié, abonn, aprè, utilis, intens, a...\n",
       "4           [cinéma, françai, trè, grand, parti, absent]\n",
       "                             ...                        \n",
       "175    [netflix, veut, augment, tarif, quelqu, moi, r...\n",
       "176    [demand, séri, lign, chez, netflix, format, vi...\n",
       "177    [testé, netflix, moi, tarif, dan, premier, tem...\n",
       "178    [trop, série, inachevé, comm, ann, avec, assez...\n",
       "179    [enfant, ador, trouvé, leur, série, dessin, an...\n",
       "Name: Avis content, Length: 180, dtype: object"
      ]
     },
     "execution_count": 16,
     "metadata": {},
     "output_type": "execute_result"
    }
   ],
   "source": [
    "processed_docs = documents['Avis content'].map(preprocess)\n",
    "processed_docs[:180]"
   ]
  },
  {
   "cell_type": "code",
   "execution_count": 17,
   "metadata": {},
   "outputs": [],
   "source": [
    "from nltk.classify import NaiveBayesClassifier\n",
    "from nltk.corpus import subjectivity\n",
    "from nltk.sentiment import SentimentAnalyzer\n",
    "from nltk.sentiment.util import *"
   ]
  },
  {
   "cell_type": "code",
   "execution_count": 18,
   "metadata": {},
   "outputs": [
    {
     "data": {
      "text/plain": [
       "<nltk.sentiment.vader.SentimentIntensityAnalyzer at 0x1f4a251d880>"
      ]
     },
     "execution_count": 18,
     "metadata": {},
     "output_type": "execute_result"
    }
   ],
   "source": [
    "nltk.sentiment.vader.SentimentIntensityAnalyzer()"
   ]
  },
  {
   "cell_type": "code",
   "execution_count": 19,
   "metadata": {},
   "outputs": [],
   "source": [
    "dataFrame = pd.DataFrame(processed_docs)"
   ]
  },
  {
   "cell_type": "code",
   "execution_count": 20,
   "metadata": {},
   "outputs": [
    {
     "data": {
      "text/html": [
       "<div>\n",
       "<style scoped>\n",
       "    .dataframe tbody tr th:only-of-type {\n",
       "        vertical-align: middle;\n",
       "    }\n",
       "\n",
       "    .dataframe tbody tr th {\n",
       "        vertical-align: top;\n",
       "    }\n",
       "\n",
       "    .dataframe thead th {\n",
       "        text-align: right;\n",
       "    }\n",
       "</style>\n",
       "<table border=\"1\" class=\"dataframe\">\n",
       "  <thead>\n",
       "    <tr style=\"text-align: right;\">\n",
       "      <th></th>\n",
       "      <th>Avis content</th>\n",
       "    </tr>\n",
       "  </thead>\n",
       "  <tbody>\n",
       "    <tr>\n",
       "      <th>0</th>\n",
       "      <td>[tenai, dire, netflix, apporté, nouveauté, sup...</td>\n",
       "    </tr>\n",
       "    <tr>\n",
       "      <th>1</th>\n",
       "      <td>[pour, ceux, aiment, séri, tou, pay, génial, r...</td>\n",
       "    </tr>\n",
       "    <tr>\n",
       "      <th>2</th>\n",
       "      <td>[pourquoi, avoir, besoin, avi, constructif, lo...</td>\n",
       "    </tr>\n",
       "    <tr>\n",
       "      <th>3</th>\n",
       "      <td>[avai, résilié, abonn, aprè, utilis, intens, a...</td>\n",
       "    </tr>\n",
       "    <tr>\n",
       "      <th>4</th>\n",
       "      <td>[cinéma, françai, trè, grand, parti, absent]</td>\n",
       "    </tr>\n",
       "    <tr>\n",
       "      <th>...</th>\n",
       "      <td>...</td>\n",
       "    </tr>\n",
       "    <tr>\n",
       "      <th>175</th>\n",
       "      <td>[netflix, veut, augment, tarif, quelqu, moi, r...</td>\n",
       "    </tr>\n",
       "    <tr>\n",
       "      <th>176</th>\n",
       "      <td>[demand, séri, lign, chez, netflix, format, vi...</td>\n",
       "    </tr>\n",
       "    <tr>\n",
       "      <th>177</th>\n",
       "      <td>[testé, netflix, moi, tarif, dan, premier, tem...</td>\n",
       "    </tr>\n",
       "    <tr>\n",
       "      <th>178</th>\n",
       "      <td>[trop, série, inachevé, comm, ann, avec, assez...</td>\n",
       "    </tr>\n",
       "    <tr>\n",
       "      <th>179</th>\n",
       "      <td>[enfant, ador, trouvé, leur, série, dessin, an...</td>\n",
       "    </tr>\n",
       "  </tbody>\n",
       "</table>\n",
       "<p>180 rows × 1 columns</p>\n",
       "</div>"
      ],
      "text/plain": [
       "                                          Avis content\n",
       "0    [tenai, dire, netflix, apporté, nouveauté, sup...\n",
       "1    [pour, ceux, aiment, séri, tou, pay, génial, r...\n",
       "2    [pourquoi, avoir, besoin, avi, constructif, lo...\n",
       "3    [avai, résilié, abonn, aprè, utilis, intens, a...\n",
       "4         [cinéma, françai, trè, grand, parti, absent]\n",
       "..                                                 ...\n",
       "175  [netflix, veut, augment, tarif, quelqu, moi, r...\n",
       "176  [demand, séri, lign, chez, netflix, format, vi...\n",
       "177  [testé, netflix, moi, tarif, dan, premier, tem...\n",
       "178  [trop, série, inachevé, comm, ann, avec, assez...\n",
       "179  [enfant, ador, trouvé, leur, série, dessin, an...\n",
       "\n",
       "[180 rows x 1 columns]"
      ]
     },
     "execution_count": 20,
     "metadata": {},
     "output_type": "execute_result"
    }
   ],
   "source": [
    "dataFrame"
   ]
  },
  {
   "cell_type": "code",
   "execution_count": 21,
   "metadata": {},
   "outputs": [
    {
     "name": "stdout",
     "output_type": "stream",
     "text": [
      "Requirement already satisfied: vaderSentiment in c:\\users\\louja\\anaconda3\\lib\\site-packages (3.3.2)\n",
      "Requirement already satisfied: requests in c:\\users\\louja\\anaconda3\\lib\\site-packages (from vaderSentiment) (2.25.1)\n",
      "Requirement already satisfied: chardet<5,>=3.0.2 in c:\\users\\louja\\anaconda3\\lib\\site-packages (from requests->vaderSentiment) (4.0.0)\n",
      "Requirement already satisfied: idna<3,>=2.5 in c:\\users\\louja\\anaconda3\\lib\\site-packages (from requests->vaderSentiment) (2.10)\n",
      "Requirement already satisfied: certifi>=2017.4.17 in c:\\users\\louja\\anaconda3\\lib\\site-packages (from requests->vaderSentiment) (2020.12.5)\n",
      "Requirement already satisfied: urllib3<1.27,>=1.21.1 in c:\\users\\louja\\anaconda3\\lib\\site-packages (from requests->vaderSentiment) (1.26.4)\n",
      "Note: you may need to restart the kernel to use updated packages.\n"
     ]
    }
   ],
   "source": [
    "pip install vaderSentiment"
   ]
  },
  {
   "cell_type": "code",
   "execution_count": 22,
   "metadata": {},
   "outputs": [
    {
     "name": "stderr",
     "output_type": "stream",
     "text": [
      "[nltk_data] Downloading package vader_lexicon to\n",
      "[nltk_data]     C:\\Users\\louja\\AppData\\Roaming\\nltk_data...\n",
      "[nltk_data]   Package vader_lexicon is already up-to-date!\n"
     ]
    }
   ],
   "source": [
    "import nltk\n",
    "nltk.download('vader_lexicon')\n",
    "from nltk.sentiment.vader import SentimentIntensityAnalyzer\n",
    "\n",
    "from vaderSentiment.vaderSentiment import SentimentIntensityAnalyzer\n",
    "# apply sentiment analysis\n",
    "analyser = SentimentIntensityAnalyzer()\n",
    "\n",
    "sentiment_score_list = []\n",
    "sentiment_label_list = []\n",
    "\n",
    "for i in data1['Avis content'].values.tolist():\n",
    "    sentiment_score = analyser.polarity_scores(i)\n",
    "\n",
    "    if sentiment_score['compound'] >= 0.05:\n",
    "        sentiment_score_list.append(sentiment_score['compound'])\n",
    "        sentiment_label_list.append('Positive')\n",
    "    elif sentiment_score['compound'] > -0.05 and sentiment_score['compound'] < 0.05:\n",
    "        sentiment_score_list.append(sentiment_score['compound'])\n",
    "        sentiment_label_list.append('Neutral')\n",
    "    elif sentiment_score['compound'] <= -0.05:\n",
    "        sentiment_score_list.append(sentiment_score['compound'])\n",
    "        sentiment_label_list.append('Negative')\n",
    "    \n",
    "data1['sentiment'] = sentiment_label_list\n",
    "data1['sentiment score'] = sentiment_score_list"
   ]
  },
  {
   "cell_type": "code",
   "execution_count": 23,
   "metadata": {},
   "outputs": [
    {
     "data": {
      "text/plain": [
       "[0.3561,\n",
       " 0.0,\n",
       " 0.0,\n",
       " -0.7088,\n",
       " 0.0,\n",
       " 0.0,\n",
       " 0.0,\n",
       " 0.0,\n",
       " 0.0,\n",
       " 0.0,\n",
       " 0.0,\n",
       " 0.0,\n",
       " -0.128,\n",
       " 0.0,\n",
       " 0.0,\n",
       " -0.4767,\n",
       " 0.0,\n",
       " 0.0,\n",
       " 0.0,\n",
       " 0.2023,\n",
       " 0.0,\n",
       " 0.0,\n",
       " 0.0,\n",
       " 0.0,\n",
       " -0.25,\n",
       " 0.0,\n",
       " -0.8453,\n",
       " 0.024,\n",
       " 0.0516,\n",
       " 0.0,\n",
       " 0.0,\n",
       " -0.5696,\n",
       " 0.7845,\n",
       " 0.0,\n",
       " 0.4466,\n",
       " 0.0,\n",
       " -0.3164,\n",
       " -0.5269,\n",
       " 0.0,\n",
       " 0.0,\n",
       " 0.0,\n",
       " -0.128,\n",
       " -0.6876,\n",
       " 0.0,\n",
       " 0.0,\n",
       " 0.34,\n",
       " 0.0,\n",
       " 0.0,\n",
       " 0.0,\n",
       " 0.0,\n",
       " 0.5267,\n",
       " -0.25,\n",
       " -0.128,\n",
       " 0.9086,\n",
       " 0.0,\n",
       " 0.0,\n",
       " 0.0,\n",
       " 0.0,\n",
       " 0.0,\n",
       " 0.0,\n",
       " -0.2003,\n",
       " 0.0,\n",
       " 0.0,\n",
       " 0.0,\n",
       " 0.0,\n",
       " 0.2023,\n",
       " 0.0,\n",
       " 0.0,\n",
       " 0.6369,\n",
       " 0.0,\n",
       " 0.4767,\n",
       " 0.5093,\n",
       " 0.0,\n",
       " 0.0,\n",
       " 0.0,\n",
       " 0.3612,\n",
       " 0.3147,\n",
       " 0.0,\n",
       " -0.8619,\n",
       " 0.0,\n",
       " 0.0,\n",
       " 0.296,\n",
       " 0.0,\n",
       " -0.3612,\n",
       " 0.0,\n",
       " 0.0,\n",
       " -0.128,\n",
       " 0.0,\n",
       " 0.0,\n",
       " 0.7964,\n",
       " 0.0,\n",
       " -0.4588,\n",
       " 0.0,\n",
       " 0.0,\n",
       " 0.4767,\n",
       " 0.0,\n",
       " 0.0,\n",
       " 0.0,\n",
       " 0.0,\n",
       " 0.0,\n",
       " 0.0,\n",
       " -0.2732,\n",
       " 0.1779,\n",
       " 0.1779,\n",
       " 0.0,\n",
       " -0.128,\n",
       " 0.0,\n",
       " 0.0,\n",
       " 0.9403,\n",
       " 0.0,\n",
       " 0.3612,\n",
       " 0.0,\n",
       " -0.128,\n",
       " 0.6688,\n",
       " 0.0,\n",
       " -0.128,\n",
       " 0.3111,\n",
       " 0.0,\n",
       " 0.0,\n",
       " 0.3769,\n",
       " 0.0,\n",
       " 0.0,\n",
       " 0.5093,\n",
       " 0.0,\n",
       " 0.0,\n",
       " 0.0,\n",
       " 0.0,\n",
       " 0.0,\n",
       " 0.0772,\n",
       " 0.0,\n",
       " 0.1779,\n",
       " 0.0,\n",
       " -0.6124,\n",
       " 0.4019,\n",
       " -0.3956,\n",
       " 0.0,\n",
       " -0.594,\n",
       " -0.5574,\n",
       " 0.4588,\n",
       " 0.0,\n",
       " 0.2677,\n",
       " 0.0,\n",
       " -0.4588,\n",
       " 0.0,\n",
       " -0.3612,\n",
       " -0.4215,\n",
       " 0.4515,\n",
       " 0.0,\n",
       " -0.296,\n",
       " 0.0,\n",
       " 0.0,\n",
       " -0.128,\n",
       " 0.0,\n",
       " 0.5951,\n",
       " 0.0258,\n",
       " -0.3867,\n",
       " 0.0772,\n",
       " 0.1779,\n",
       " -0.2851,\n",
       " -0.128,\n",
       " 0.6776,\n",
       " -0.2003,\n",
       " 0.0,\n",
       " 0.0,\n",
       " -0.296,\n",
       " 0.0,\n",
       " 0.4939,\n",
       " 0.0,\n",
       " 0.0,\n",
       " 0.0,\n",
       " 0.0,\n",
       " 0.6988,\n",
       " 0.0,\n",
       " 0.0,\n",
       " 0.0,\n",
       " 0.0,\n",
       " 0.0,\n",
       " -0.7772,\n",
       " -0.3956,\n",
       " 0.0]"
      ]
     },
     "execution_count": 23,
     "metadata": {},
     "output_type": "execute_result"
    }
   ],
   "source": [
    "sentiment_score_list"
   ]
  },
  {
   "cell_type": "code",
   "execution_count": 24,
   "metadata": {},
   "outputs": [
    {
     "data": {
      "text/html": [
       "<div>\n",
       "<style scoped>\n",
       "    .dataframe tbody tr th:only-of-type {\n",
       "        vertical-align: middle;\n",
       "    }\n",
       "\n",
       "    .dataframe tbody tr th {\n",
       "        vertical-align: top;\n",
       "    }\n",
       "\n",
       "    .dataframe thead th {\n",
       "        text-align: right;\n",
       "    }\n",
       "</style>\n",
       "<table border=\"1\" class=\"dataframe\">\n",
       "  <thead>\n",
       "    <tr style=\"text-align: right;\">\n",
       "      <th></th>\n",
       "      <th>Avis content</th>\n",
       "      <th>sentiment</th>\n",
       "      <th>sentiment score</th>\n",
       "    </tr>\n",
       "  </thead>\n",
       "  <tbody>\n",
       "    <tr>\n",
       "      <th>0</th>\n",
       "      <td>Je tenais à dire que Netflix m'a apporté des n...</td>\n",
       "      <td>Positive</td>\n",
       "      <td>0.3561</td>\n",
       "    </tr>\n",
       "    <tr>\n",
       "      <th>1</th>\n",
       "      <td>Pour ceux qui aiment les séries, de tous les p...</td>\n",
       "      <td>Neutral</td>\n",
       "      <td>0.0000</td>\n",
       "    </tr>\n",
       "    <tr>\n",
       "      <th>2</th>\n",
       "      <td>Pourquoi avoir besoin d’un avis constructif lo...</td>\n",
       "      <td>Neutral</td>\n",
       "      <td>0.0000</td>\n",
       "    </tr>\n",
       "    <tr>\n",
       "      <th>3</th>\n",
       "      <td>J’avais résilié mon abonnement après un an d’u...</td>\n",
       "      <td>Negative</td>\n",
       "      <td>-0.7088</td>\n",
       "    </tr>\n",
       "    <tr>\n",
       "      <th>4</th>\n",
       "      <td>Le cinéma Français est en très grande partie a...</td>\n",
       "      <td>Neutral</td>\n",
       "      <td>0.0000</td>\n",
       "    </tr>\n",
       "    <tr>\n",
       "      <th>...</th>\n",
       "      <td>...</td>\n",
       "      <td>...</td>\n",
       "      <td>...</td>\n",
       "    </tr>\n",
       "    <tr>\n",
       "      <th>175</th>\n",
       "      <td>\\n                BonjourApparemment Netflix v...</td>\n",
       "      <td>Neutral</td>\n",
       "      <td>0.0000</td>\n",
       "    </tr>\n",
       "    <tr>\n",
       "      <th>176</th>\n",
       "      <td>\\n                Je me demande qui met les sé...</td>\n",
       "      <td>Neutral</td>\n",
       "      <td>0.0000</td>\n",
       "    </tr>\n",
       "    <tr>\n",
       "      <th>177</th>\n",
       "      <td>\\n                J'ai testé Netflix un mois a...</td>\n",
       "      <td>Negative</td>\n",
       "      <td>-0.7772</td>\n",
       "    </tr>\n",
       "    <tr>\n",
       "      <th>178</th>\n",
       "      <td>\\n                Trop de série inachevé !!!! ...</td>\n",
       "      <td>Negative</td>\n",
       "      <td>-0.3956</td>\n",
       "    </tr>\n",
       "    <tr>\n",
       "      <th>179</th>\n",
       "      <td>\\n                Mes enfants adorent est y tr...</td>\n",
       "      <td>Neutral</td>\n",
       "      <td>0.0000</td>\n",
       "    </tr>\n",
       "  </tbody>\n",
       "</table>\n",
       "<p>180 rows × 3 columns</p>\n",
       "</div>"
      ],
      "text/plain": [
       "                                          Avis content sentiment  \\\n",
       "0    Je tenais à dire que Netflix m'a apporté des n...  Positive   \n",
       "1    Pour ceux qui aiment les séries, de tous les p...   Neutral   \n",
       "2    Pourquoi avoir besoin d’un avis constructif lo...   Neutral   \n",
       "3    J’avais résilié mon abonnement après un an d’u...  Negative   \n",
       "4    Le cinéma Français est en très grande partie a...   Neutral   \n",
       "..                                                 ...       ...   \n",
       "175  \\n                BonjourApparemment Netflix v...   Neutral   \n",
       "176  \\n                Je me demande qui met les sé...   Neutral   \n",
       "177  \\n                J'ai testé Netflix un mois a...  Negative   \n",
       "178  \\n                Trop de série inachevé !!!! ...  Negative   \n",
       "179  \\n                Mes enfants adorent est y tr...   Neutral   \n",
       "\n",
       "     sentiment score  \n",
       "0             0.3561  \n",
       "1             0.0000  \n",
       "2             0.0000  \n",
       "3            -0.7088  \n",
       "4             0.0000  \n",
       "..               ...  \n",
       "175           0.0000  \n",
       "176           0.0000  \n",
       "177          -0.7772  \n",
       "178          -0.3956  \n",
       "179           0.0000  \n",
       "\n",
       "[180 rows x 3 columns]"
      ]
     },
     "metadata": {},
     "output_type": "display_data"
    }
   ],
   "source": [
    "display(data1.head(180))"
   ]
  },
  {
   "cell_type": "code",
   "execution_count": 26,
   "metadata": {},
   "outputs": [],
   "source": [
    "import matplotlib.pyplot as plt\n"
   ]
  },
  {
   "cell_type": "code",
   "execution_count": 36,
   "metadata": {},
   "outputs": [
    {
     "data": {
      "text/html": [
       "<div>\n",
       "<style scoped>\n",
       "    .dataframe tbody tr th:only-of-type {\n",
       "        vertical-align: middle;\n",
       "    }\n",
       "\n",
       "    .dataframe tbody tr th {\n",
       "        vertical-align: top;\n",
       "    }\n",
       "\n",
       "    .dataframe thead th {\n",
       "        text-align: right;\n",
       "    }\n",
       "</style>\n",
       "<table border=\"1\" class=\"dataframe\">\n",
       "  <thead>\n",
       "    <tr style=\"text-align: right;\">\n",
       "      <th></th>\n",
       "      <th>sentiment</th>\n",
       "    </tr>\n",
       "  </thead>\n",
       "  <tbody>\n",
       "    <tr>\n",
       "      <th>0</th>\n",
       "      <td>Positive</td>\n",
       "    </tr>\n",
       "    <tr>\n",
       "      <th>1</th>\n",
       "      <td>Neutral</td>\n",
       "    </tr>\n",
       "    <tr>\n",
       "      <th>2</th>\n",
       "      <td>Neutral</td>\n",
       "    </tr>\n",
       "    <tr>\n",
       "      <th>3</th>\n",
       "      <td>Negative</td>\n",
       "    </tr>\n",
       "    <tr>\n",
       "      <th>4</th>\n",
       "      <td>Neutral</td>\n",
       "    </tr>\n",
       "    <tr>\n",
       "      <th>...</th>\n",
       "      <td>...</td>\n",
       "    </tr>\n",
       "    <tr>\n",
       "      <th>175</th>\n",
       "      <td>Neutral</td>\n",
       "    </tr>\n",
       "    <tr>\n",
       "      <th>176</th>\n",
       "      <td>Neutral</td>\n",
       "    </tr>\n",
       "    <tr>\n",
       "      <th>177</th>\n",
       "      <td>Negative</td>\n",
       "    </tr>\n",
       "    <tr>\n",
       "      <th>178</th>\n",
       "      <td>Negative</td>\n",
       "    </tr>\n",
       "    <tr>\n",
       "      <th>179</th>\n",
       "      <td>Neutral</td>\n",
       "    </tr>\n",
       "  </tbody>\n",
       "</table>\n",
       "<p>180 rows × 1 columns</p>\n",
       "</div>"
      ],
      "text/plain": [
       "    sentiment\n",
       "0    Positive\n",
       "1     Neutral\n",
       "2     Neutral\n",
       "3    Negative\n",
       "4     Neutral\n",
       "..        ...\n",
       "175   Neutral\n",
       "176   Neutral\n",
       "177  Negative\n",
       "178  Negative\n",
       "179   Neutral\n",
       "\n",
       "[180 rows x 1 columns]"
      ]
     },
     "execution_count": 36,
     "metadata": {},
     "output_type": "execute_result"
    }
   ],
   "source": [
    "from pandas import DataFrame\n",
    "\n",
    "df = DataFrame(dataFrame,columns=['sentiment'])\n",
    "df"
   ]
  },
  {
   "cell_type": "code",
   "execution_count": 44,
   "metadata": {},
   "outputs": [
    {
     "data": {
      "text/plain": [
       "<AxesSubplot:xlabel='sentiment'>"
      ]
     },
     "execution_count": 44,
     "metadata": {},
     "output_type": "execute_result"
    },
    {
     "data": {
      "image/png": "[encoded data removed]",
      "text/plain": [
       "<Figure size 432x288 with 1 Axes>"
      ]
     },
     "metadata": {
      "needs_background": "light"
     },
     "output_type": "display_data"
    }
   ],
   "source": [
    "dataFrame.groupby(['sentiment']).count().plot(kind='bar', y='sentiment score')"
   ]
  },
  {
   "cell_type": "code",
   "execution_count": 46,
   "metadata": {},
   "outputs": [
    {
     "data": {
      "text/html": [
       "<div>\n",
       "<style scoped>\n",
       "    .dataframe tbody tr th:only-of-type {\n",
       "        vertical-align: middle;\n",
       "    }\n",
       "\n",
       "    .dataframe tbody tr th {\n",
       "        vertical-align: top;\n",
       "    }\n",
       "\n",
       "    .dataframe thead th {\n",
       "        text-align: right;\n",
       "    }\n",
       "</style>\n",
       "<table border=\"1\" class=\"dataframe\">\n",
       "  <thead>\n",
       "    <tr style=\"text-align: right;\">\n",
       "      <th></th>\n",
       "      <th>sentiment</th>\n",
       "    </tr>\n",
       "  </thead>\n",
       "  <tbody>\n",
       "    <tr>\n",
       "      <th>0</th>\n",
       "      <td>Positive</td>\n",
       "    </tr>\n",
       "    <tr>\n",
       "      <th>1</th>\n",
       "      <td>Neutral</td>\n",
       "    </tr>\n",
       "    <tr>\n",
       "      <th>2</th>\n",
       "      <td>Neutral</td>\n",
       "    </tr>\n",
       "    <tr>\n",
       "      <th>3</th>\n",
       "      <td>Negative</td>\n",
       "    </tr>\n",
       "    <tr>\n",
       "      <th>4</th>\n",
       "      <td>Neutral</td>\n",
       "    </tr>\n",
       "    <tr>\n",
       "      <th>...</th>\n",
       "      <td>...</td>\n",
       "    </tr>\n",
       "    <tr>\n",
       "      <th>175</th>\n",
       "      <td>Neutral</td>\n",
       "    </tr>\n",
       "    <tr>\n",
       "      <th>176</th>\n",
       "      <td>Neutral</td>\n",
       "    </tr>\n",
       "    <tr>\n",
       "      <th>177</th>\n",
       "      <td>Negative</td>\n",
       "    </tr>\n",
       "    <tr>\n",
       "      <th>178</th>\n",
       "      <td>Negative</td>\n",
       "    </tr>\n",
       "    <tr>\n",
       "      <th>179</th>\n",
       "      <td>Neutral</td>\n",
       "    </tr>\n",
       "  </tbody>\n",
       "</table>\n",
       "<p>180 rows × 1 columns</p>\n",
       "</div>"
      ],
      "text/plain": [
       "    sentiment\n",
       "0    Positive\n",
       "1     Neutral\n",
       "2     Neutral\n",
       "3    Negative\n",
       "4     Neutral\n",
       "..        ...\n",
       "175   Neutral\n",
       "176   Neutral\n",
       "177  Negative\n",
       "178  Negative\n",
       "179   Neutral\n",
       "\n",
       "[180 rows x 1 columns]"
      ]
     },
     "execution_count": 46,
     "metadata": {},
     "output_type": "execute_result"
    }
   ],
   "source": [
    "df"
   ]
  },
  {
   "cell_type": "code",
   "execution_count": 47,
   "metadata": {},
   "outputs": [
    {
     "data": {
      "text/plain": [
       "0       True\n",
       "1      False\n",
       "2      False\n",
       "3       True\n",
       "4      False\n",
       "       ...  \n",
       "175    False\n",
       "176    False\n",
       "177     True\n",
       "178     True\n",
       "179    False\n",
       "Name: sentiment, Length: 180, dtype: bool"
      ]
     },
     "execution_count": 47,
     "metadata": {},
     "output_type": "execute_result"
    }
   ],
   "source": [
    "sentiments = ['Negative', 'Positive']\n",
    "data2=dataFrame.sentiment.isin(sentiments)\n",
    "data2"
   ]
  },
  {
   "cell_type": "code",
   "execution_count": 51,
   "metadata": {},
   "outputs": [],
   "source": [
    "positive =  dataFrame['sentiment']=='Positive'"
   ]
  },
  {
   "cell_type": "code",
   "execution_count": 52,
   "metadata": {},
   "outputs": [
    {
     "data": {
      "text/plain": [
       "0       True\n",
       "1      False\n",
       "2      False\n",
       "3      False\n",
       "4      False\n",
       "       ...  \n",
       "175    False\n",
       "176    False\n",
       "177    False\n",
       "178    False\n",
       "179    False\n",
       "Name: sentiment, Length: 180, dtype: bool"
      ]
     },
     "execution_count": 52,
     "metadata": {},
     "output_type": "execute_result"
    }
   ],
   "source": [
    "positive"
   ]
  },
  {
   "cell_type": "code",
   "execution_count": 66,
   "metadata": {},
   "outputs": [],
   "source": [
    "df=dataFrame\n",
    "df1=df[((df.sentiment != 'Neutral'))]"
   ]
  },
  {
   "cell_type": "code",
   "execution_count": 67,
   "metadata": {},
   "outputs": [
    {
     "data": {
      "text/html": [
       "<div>\n",
       "<style scoped>\n",
       "    .dataframe tbody tr th:only-of-type {\n",
       "        vertical-align: middle;\n",
       "    }\n",
       "\n",
       "    .dataframe tbody tr th {\n",
       "        vertical-align: top;\n",
       "    }\n",
       "\n",
       "    .dataframe thead th {\n",
       "        text-align: right;\n",
       "    }\n",
       "</style>\n",
       "<table border=\"1\" class=\"dataframe\">\n",
       "  <thead>\n",
       "    <tr style=\"text-align: right;\">\n",
       "      <th></th>\n",
       "      <th>Avis content</th>\n",
       "      <th>sentiment</th>\n",
       "      <th>sentiment score</th>\n",
       "    </tr>\n",
       "  </thead>\n",
       "  <tbody>\n",
       "    <tr>\n",
       "      <th>0</th>\n",
       "      <td>[tenai, dire, netflix, apporté, nouveauté, sup...</td>\n",
       "      <td>Positive</td>\n",
       "      <td>0.3561</td>\n",
       "    </tr>\n",
       "    <tr>\n",
       "      <th>3</th>\n",
       "      <td>[avai, résilié, abonn, aprè, utilis, intens, a...</td>\n",
       "      <td>Negative</td>\n",
       "      <td>-0.7088</td>\n",
       "    </tr>\n",
       "    <tr>\n",
       "      <th>12</th>\n",
       "      <td>[beaucoup, choix, genr, film, séri, documentai...</td>\n",
       "      <td>Negative</td>\n",
       "      <td>-0.1280</td>\n",
       "    </tr>\n",
       "    <tr>\n",
       "      <th>15</th>\n",
       "      <td>[cett, appli, terribl, pour, cinéphil, comm, a...</td>\n",
       "      <td>Negative</td>\n",
       "      <td>-0.4767</td>\n",
       "    </tr>\n",
       "    <tr>\n",
       "      <th>19</th>\n",
       "      <td>[appli, mai, systèm, classement, catégori, rev...</td>\n",
       "      <td>Positive</td>\n",
       "      <td>0.2023</td>\n",
       "    </tr>\n",
       "    <tr>\n",
       "      <th>...</th>\n",
       "      <td>...</td>\n",
       "      <td>...</td>\n",
       "      <td>...</td>\n",
       "    </tr>\n",
       "    <tr>\n",
       "      <th>164</th>\n",
       "      <td>[cela, continu, vai, désabonn, euro, moi, pour...</td>\n",
       "      <td>Negative</td>\n",
       "      <td>-0.2960</td>\n",
       "    </tr>\n",
       "    <tr>\n",
       "      <th>166</th>\n",
       "      <td>[abonné, depui, quelqu, moi, dirai, doit, pito...</td>\n",
       "      <td>Positive</td>\n",
       "      <td>0.4939</td>\n",
       "    </tr>\n",
       "    <tr>\n",
       "      <th>171</th>\n",
       "      <td>[ador, cett, plateform, merci, vou, exist]</td>\n",
       "      <td>Positive</td>\n",
       "      <td>0.6988</td>\n",
       "    </tr>\n",
       "    <tr>\n",
       "      <th>177</th>\n",
       "      <td>[testé, netflix, moi, tarif, dan, premier, tem...</td>\n",
       "      <td>Negative</td>\n",
       "      <td>-0.7772</td>\n",
       "    </tr>\n",
       "    <tr>\n",
       "      <th>178</th>\n",
       "      <td>[trop, série, inachevé, comm, ann, avec, assez...</td>\n",
       "      <td>Negative</td>\n",
       "      <td>-0.3956</td>\n",
       "    </tr>\n",
       "  </tbody>\n",
       "</table>\n",
       "<p>73 rows × 3 columns</p>\n",
       "</div>"
      ],
      "text/plain": [
       "                                          Avis content sentiment  \\\n",
       "0    [tenai, dire, netflix, apporté, nouveauté, sup...  Positive   \n",
       "3    [avai, résilié, abonn, aprè, utilis, intens, a...  Negative   \n",
       "12   [beaucoup, choix, genr, film, séri, documentai...  Negative   \n",
       "15   [cett, appli, terribl, pour, cinéphil, comm, a...  Negative   \n",
       "19   [appli, mai, systèm, classement, catégori, rev...  Positive   \n",
       "..                                                 ...       ...   \n",
       "164  [cela, continu, vai, désabonn, euro, moi, pour...  Negative   \n",
       "166  [abonné, depui, quelqu, moi, dirai, doit, pito...  Positive   \n",
       "171         [ador, cett, plateform, merci, vou, exist]  Positive   \n",
       "177  [testé, netflix, moi, tarif, dan, premier, tem...  Negative   \n",
       "178  [trop, série, inachevé, comm, ann, avec, assez...  Negative   \n",
       "\n",
       "     sentiment score  \n",
       "0             0.3561  \n",
       "3            -0.7088  \n",
       "12           -0.1280  \n",
       "15           -0.4767  \n",
       "19            0.2023  \n",
       "..               ...  \n",
       "164          -0.2960  \n",
       "166           0.4939  \n",
       "171           0.6988  \n",
       "177          -0.7772  \n",
       "178          -0.3956  \n",
       "\n",
       "[73 rows x 3 columns]"
      ]
     },
     "execution_count": 67,
     "metadata": {},
     "output_type": "execute_result"
    }
   ],
   "source": [
    "df1"
   ]
  },
  {
   "cell_type": "code",
   "execution_count": 72,
   "metadata": {},
   "outputs": [
    {
     "data": {
      "text/plain": [
       "<AxesSubplot:xlabel='sentiment'>"
      ]
     },
     "execution_count": 72,
     "metadata": {},
     "output_type": "execute_result"
    },
    {
     "data": {
      "image/png": "[encoded data removed]",
      "text/plain": [
       "<Figure size 432x288 with 1 Axes>"
      ]
     },
     "metadata": {
      "needs_background": "light"
     },
     "output_type": "display_data"
    }
   ],
   "source": [
    "df1.groupby(['sentiment']).count().plot(kind='bar', y='sentiment score')"
   ]
  },
  {
   "cell_type": "code",
   "execution_count": 70,
   "metadata": {},
   "outputs": [
    {
     "data": {
      "text/plain": [
       "<AxesSubplot:ylabel='sentiment score'>"
      ]
     },
     "execution_count": 70,
     "metadata": {},
     "output_type": "execute_result"
    },
    {
     "data": {
      "image/png": "[encoded data removed]",
      "text/plain": [
       "<Figure size 432x288 with 1 Axes>"
      ]
     },
     "metadata": {},
     "output_type": "display_data"
    }
   ],
   "source": [
    "df1.groupby(['sentiment']).count().plot(kind='pie', y='sentiment score',autopct='%1.0f%%')"
   ]
  },
  {
   "cell_type": "code",
   "execution_count": 27,
   "metadata": {},
   "outputs": [
    {
     "name": "stdout",
     "output_type": "stream",
     "text": [
      "Collecting wordCloud\n",
      "  Downloading wordcloud-1.8.1-cp38-cp38-win_amd64.whl (155 kB)\n",
      "Requirement already satisfied: pillow in c:\\users\\louja\\anaconda3\\lib\\site-packages (from wordCloud) (8.2.0)\n",
      "Requirement already satisfied: matplotlib in c:\\users\\louja\\anaconda3\\lib\\site-packages (from wordCloud) (3.3.4)\n",
      "Requirement already satisfied: numpy>=1.6.1 in c:\\users\\louja\\anaconda3\\lib\\site-packages (from wordCloud) (1.20.1)\n",
      "Requirement already satisfied: cycler>=0.10 in c:\\users\\louja\\anaconda3\\lib\\site-packages (from matplotlib->wordCloud) (0.10.0)\n",
      "Requirement already satisfied: pyparsing!=2.0.4,!=2.1.2,!=2.1.6,>=2.0.3 in c:\\users\\louja\\anaconda3\\lib\\site-packages (from matplotlib->wordCloud) (2.4.7)\n",
      "Requirement already satisfied: python-dateutil>=2.1 in c:\\users\\louja\\anaconda3\\lib\\site-packages (from matplotlib->wordCloud) (2.8.1)\n",
      "Requirement already satisfied: kiwisolver>=1.0.1 in c:\\users\\louja\\anaconda3\\lib\\site-packages (from matplotlib->wordCloud) (1.3.1)\n",
      "Requirement already satisfied: six in c:\\users\\louja\\anaconda3\\lib\\site-packages (from cycler>=0.10->matplotlib->wordCloud) (1.15.0)\n",
      "Installing collected packages: wordCloud\n",
      "Successfully installed wordCloud-1.8.1\n",
      "Note: you may need to restart the kernel to use updated packages.\n"
     ]
    }
   ],
   "source": [
    "%pip install wordCloud\n",
    "import matplotlib.pyplot as plt\n",
    "from wordcloud import WordCloud"
   ]
  },
  {
   "cell_type": "code",
   "execution_count": 34,
   "metadata": {},
   "outputs": [
    {
     "data": {
      "text/plain": [
       "0      Je tenais à dire que Netflix m'a apporté des n...\n",
       "1      Pour ceux qui aiment les séries, de tous les p...\n",
       "2      Pourquoi avoir besoin d’un avis constructif lo...\n",
       "3      J’avais résilié mon abonnement après un an d’u...\n",
       "4      Le cinéma Français est en très grande partie a...\n",
       "                             ...                        \n",
       "175    \\n                BonjourApparemment Netflix v...\n",
       "176    \\n                Je me demande qui met les sé...\n",
       "177    \\n                J'ai testé Netflix un mois a...\n",
       "178    \\n                Trop de série inachevé !!!! ...\n",
       "179    \\n                Mes enfants adorent est y tr...\n",
       "Name: Avis content, Length: 180, dtype: object"
      ]
     },
     "execution_count": 34,
     "metadata": {},
     "output_type": "execute_result"
    }
   ],
   "source": [
    "text = data1['Avis content'].astype(str)\n",
    "text"
   ]
  },
  {
   "cell_type": "code",
   "execution_count": 35,
   "metadata": {},
   "outputs": [
    {
     "ename": "TypeError",
     "evalue": "expected string or bytes-like object",
     "output_type": "error",
     "traceback": [
      "\u001b[1;31m---------------------------------------------------------------------------\u001b[0m",
      "\u001b[1;31mTypeError\u001b[0m                                 Traceback (most recent call last)",
      "\u001b[1;32m<ipython-input-35-b658572fd7b3>\u001b[0m in \u001b[0;36m<module>\u001b[1;34m\u001b[0m\n\u001b[1;32m----> 1\u001b[1;33m \u001b[0mword_cloud\u001b[0m \u001b[1;33m=\u001b[0m \u001b[0mWordCloud\u001b[0m\u001b[1;33m(\u001b[0m\u001b[0mcollocations\u001b[0m \u001b[1;33m=\u001b[0m \u001b[1;32mFalse\u001b[0m\u001b[1;33m,\u001b[0m \u001b[0mbackground_color\u001b[0m \u001b[1;33m=\u001b[0m \u001b[1;34m'white'\u001b[0m\u001b[1;33m)\u001b[0m\u001b[1;33m.\u001b[0m\u001b[0mgenerate\u001b[0m\u001b[1;33m(\u001b[0m\u001b[0mtext\u001b[0m\u001b[1;33m)\u001b[0m\u001b[1;33m\u001b[0m\u001b[1;33m\u001b[0m\u001b[0m\n\u001b[0m",
      "\u001b[1;32m~\\anaconda3\\lib\\site-packages\\wordcloud\\wordcloud.py\u001b[0m in \u001b[0;36mgenerate\u001b[1;34m(self, text)\u001b[0m\n\u001b[0;32m    630\u001b[0m         \u001b[0mself\u001b[0m\u001b[1;33m\u001b[0m\u001b[1;33m\u001b[0m\u001b[0m\n\u001b[0;32m    631\u001b[0m         \"\"\"\n\u001b[1;32m--> 632\u001b[1;33m         \u001b[1;32mreturn\u001b[0m \u001b[0mself\u001b[0m\u001b[1;33m.\u001b[0m\u001b[0mgenerate_from_text\u001b[0m\u001b[1;33m(\u001b[0m\u001b[0mtext\u001b[0m\u001b[1;33m)\u001b[0m\u001b[1;33m\u001b[0m\u001b[1;33m\u001b[0m\u001b[0m\n\u001b[0m\u001b[0;32m    633\u001b[0m \u001b[1;33m\u001b[0m\u001b[0m\n\u001b[0;32m    634\u001b[0m     \u001b[1;32mdef\u001b[0m \u001b[0m_check_generated\u001b[0m\u001b[1;33m(\u001b[0m\u001b[0mself\u001b[0m\u001b[1;33m)\u001b[0m\u001b[1;33m:\u001b[0m\u001b[1;33m\u001b[0m\u001b[1;33m\u001b[0m\u001b[0m\n",
      "\u001b[1;32m~\\anaconda3\\lib\\site-packages\\wordcloud\\wordcloud.py\u001b[0m in \u001b[0;36mgenerate_from_text\u001b[1;34m(self, text)\u001b[0m\n\u001b[0;32m    611\u001b[0m         \u001b[0mself\u001b[0m\u001b[1;33m\u001b[0m\u001b[1;33m\u001b[0m\u001b[0m\n\u001b[0;32m    612\u001b[0m         \"\"\"\n\u001b[1;32m--> 613\u001b[1;33m         \u001b[0mwords\u001b[0m \u001b[1;33m=\u001b[0m \u001b[0mself\u001b[0m\u001b[1;33m.\u001b[0m\u001b[0mprocess_text\u001b[0m\u001b[1;33m(\u001b[0m\u001b[0mtext\u001b[0m\u001b[1;33m)\u001b[0m\u001b[1;33m\u001b[0m\u001b[1;33m\u001b[0m\u001b[0m\n\u001b[0m\u001b[0;32m    614\u001b[0m         \u001b[0mself\u001b[0m\u001b[1;33m.\u001b[0m\u001b[0mgenerate_from_frequencies\u001b[0m\u001b[1;33m(\u001b[0m\u001b[0mwords\u001b[0m\u001b[1;33m)\u001b[0m\u001b[1;33m\u001b[0m\u001b[1;33m\u001b[0m\u001b[0m\n\u001b[0;32m    615\u001b[0m         \u001b[1;32mreturn\u001b[0m \u001b[0mself\u001b[0m\u001b[1;33m\u001b[0m\u001b[1;33m\u001b[0m\u001b[0m\n",
      "\u001b[1;32m~\\anaconda3\\lib\\site-packages\\wordcloud\\wordcloud.py\u001b[0m in \u001b[0;36mprocess_text\u001b[1;34m(self, text)\u001b[0m\n\u001b[0;32m    573\u001b[0m         \u001b[0mregexp\u001b[0m \u001b[1;33m=\u001b[0m \u001b[0mself\u001b[0m\u001b[1;33m.\u001b[0m\u001b[0mregexp\u001b[0m \u001b[1;32mif\u001b[0m \u001b[0mself\u001b[0m\u001b[1;33m.\u001b[0m\u001b[0mregexp\u001b[0m \u001b[1;32mis\u001b[0m \u001b[1;32mnot\u001b[0m \u001b[1;32mNone\u001b[0m \u001b[1;32melse\u001b[0m \u001b[0mpattern\u001b[0m\u001b[1;33m\u001b[0m\u001b[1;33m\u001b[0m\u001b[0m\n\u001b[0;32m    574\u001b[0m \u001b[1;33m\u001b[0m\u001b[0m\n\u001b[1;32m--> 575\u001b[1;33m         \u001b[0mwords\u001b[0m \u001b[1;33m=\u001b[0m \u001b[0mre\u001b[0m\u001b[1;33m.\u001b[0m\u001b[0mfindall\u001b[0m\u001b[1;33m(\u001b[0m\u001b[0mregexp\u001b[0m\u001b[1;33m,\u001b[0m \u001b[0mtext\u001b[0m\u001b[1;33m,\u001b[0m \u001b[0mflags\u001b[0m\u001b[1;33m)\u001b[0m\u001b[1;33m\u001b[0m\u001b[1;33m\u001b[0m\u001b[0m\n\u001b[0m\u001b[0;32m    576\u001b[0m         \u001b[1;31m# remove 's\u001b[0m\u001b[1;33m\u001b[0m\u001b[1;33m\u001b[0m\u001b[1;33m\u001b[0m\u001b[0m\n\u001b[0;32m    577\u001b[0m         words = [word[:-2] if word.lower().endswith(\"'s\") else word\n",
      "\u001b[1;32m~\\anaconda3\\lib\\re.py\u001b[0m in \u001b[0;36mfindall\u001b[1;34m(pattern, string, flags)\u001b[0m\n\u001b[0;32m    239\u001b[0m \u001b[1;33m\u001b[0m\u001b[0m\n\u001b[0;32m    240\u001b[0m     Empty matches are included in the result.\"\"\"\n\u001b[1;32m--> 241\u001b[1;33m     \u001b[1;32mreturn\u001b[0m \u001b[0m_compile\u001b[0m\u001b[1;33m(\u001b[0m\u001b[0mpattern\u001b[0m\u001b[1;33m,\u001b[0m \u001b[0mflags\u001b[0m\u001b[1;33m)\u001b[0m\u001b[1;33m.\u001b[0m\u001b[0mfindall\u001b[0m\u001b[1;33m(\u001b[0m\u001b[0mstring\u001b[0m\u001b[1;33m)\u001b[0m\u001b[1;33m\u001b[0m\u001b[1;33m\u001b[0m\u001b[0m\n\u001b[0m\u001b[0;32m    242\u001b[0m \u001b[1;33m\u001b[0m\u001b[0m\n\u001b[0;32m    243\u001b[0m \u001b[1;32mdef\u001b[0m \u001b[0mfinditer\u001b[0m\u001b[1;33m(\u001b[0m\u001b[0mpattern\u001b[0m\u001b[1;33m,\u001b[0m \u001b[0mstring\u001b[0m\u001b[1;33m,\u001b[0m \u001b[0mflags\u001b[0m\u001b[1;33m=\u001b[0m\u001b[1;36m0\u001b[0m\u001b[1;33m)\u001b[0m\u001b[1;33m:\u001b[0m\u001b[1;33m\u001b[0m\u001b[1;33m\u001b[0m\u001b[0m\n",
      "\u001b[1;31mTypeError\u001b[0m: expected string or bytes-like object"
     ]
    }
   ],
   "source": [
    "word_cloud = WordCloud(collocations = False, background_color = 'white').generate(text)\n"
   ]
  },
  {
   "cell_type": "code",
   "execution_count": null,
   "metadata": {},
   "outputs": [],
   "source": []
  }
 ],
 "metadata": {
  "kernelspec": {
   "display_name": "Python 3",
   "language": "python",
   "name": "python3"
  },
  "language_info": {
   "codemirror_mode": {
    "name": "ipython",
    "version": 3
   },
   "file_extension": ".py",
   "mimetype": "text/x-python",
   "name": "python",
   "nbconvert_exporter": "python",
   "pygments_lexer": "ipython3",
   "version": "3.8.5"
  }
 },
 "nbformat": 4,
 "nbformat_minor": 4
}
